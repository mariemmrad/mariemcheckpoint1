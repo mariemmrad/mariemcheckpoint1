{
  "nbformat": 4,
  "nbformat_minor": 0,
  "metadata": {
    "colab": {
      "name": "Untitled1.ipynb",
      "provenance": []
    },
    "kernelspec": {
      "name": "python3",
      "display_name": "Python 3"
    },
    "language_info": {
      "name": "python"
    }
  },
  "cells": [
    {
      "cell_type": "code",
      "execution_count": 1,
      "metadata": {
        "colab": {
          "base_uri": "https://localhost:8080/",
          "height": 35
        },
        "id": "Lre3dkPIPfEd",
        "outputId": "5d61aec2-52e0-4ee6-d771-ef9462198359"
      },
      "outputs": [
        {
          "output_type": "execute_result",
          "data": {
            "application/vnd.google.colaboratory.intrinsic+json": {
              "type": "string"
            },
            "text/plain": [
              "\"welcome to python world! Let's start coding\""
            ]
          },
          "metadata": {},
          "execution_count": 1
        }
      ],
      "source": [
        "(\"welcome to python world! Let's start coding\")"
      ]
    }
  ]
}